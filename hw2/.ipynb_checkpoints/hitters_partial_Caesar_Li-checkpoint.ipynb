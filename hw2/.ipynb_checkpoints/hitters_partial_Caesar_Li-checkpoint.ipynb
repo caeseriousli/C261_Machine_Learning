{
 "cells": [
  {
   "cell_type": "markdown",
   "metadata": {},
   "source": [
    "# Lab: Feature Selection for Linear Models for Baseball Salaries\n",
    "\n",
    "Ever wondered why sports players make the money they do?\n",
    "\n",
    "In this lab, we will use linear models with feature selection to figure this out. The problem is to predict a baseball player's salary based on various statistics such as the number of hits, home runs, etc.  In doing the lab, you will learn how to:\n",
    "\n",
    "* Convert categorical features to numerical values using tools in the `pandas` package.\n",
    "* Perform LASSO and compare the results with simple linear mddel fit without regularization.\n",
    "* Visualize the features obtained by LASSO and the LASSO path.\n",
    "\n",
    "This lab is a Python adaptation of p. 251-255 of \"Introduction to Statistical Learning with Applications in R\" by Gareth James, Daniela Witten, Trevor Hastie and Robert Tibshirani. \n",
    "\n",
    "Submission: \n",
    "\n",
    "* Fill in all the parts labeled `TODO`\n",
    "* Print out your jupyter notebook, convert to pdf and upload on CCLE."
   ]
  },
  {
   "cell_type": "markdown",
   "metadata": {},
   "source": [
    "## Loading and Pre-processing the Data\n",
    "\n",
    "First we load some standard packages. "
   ]
  },
  {
   "cell_type": "code",
   "execution_count": 200,
   "metadata": {},
   "outputs": [],
   "source": [
    "%matplotlib inline\n",
    "import pandas as pd\n",
    "import numpy as np\n",
    "import matplotlib.pyplot as plt"
   ]
  },
  {
   "cell_type": "markdown",
   "metadata": {},
   "source": [
    "First, download the file `Hitters.csv` from the assignment page on the CCLE website.  Use the `pd.read_csv` command to load the file into a dataframe `df`.  Then, use the `pd.head()` command to view the first few lines of the file.  It is always good to visualize the  dataframe to ensure that the file is loaded correctly."
   ]
  },
  {
   "cell_type": "code",
   "execution_count": 201,
   "metadata": {},
   "outputs": [],
   "source": [
    "# TODO\n",
    "df = pd.read_csv(\"/Users/caesar/Dropbox/C261/Hitters.csv\")"
   ]
  },
  {
   "cell_type": "markdown",
   "metadata": {},
   "source": [
    "Now do the following\n",
    "* Use the `df = df.dropna()` command to remove any rows of the dataframe where there is incomplete data\n",
    "* Use the the `df = df.drop(col_list,s=1)` method to remove the column with the player's name.  For the parameter `col_list`, put the list of string names of the columns to be dropped.\n",
    "* Use `df.info()` to show all the columns."
   ]
  },
  {
   "cell_type": "code",
   "execution_count": 202,
   "metadata": {},
   "outputs": [
    {
     "name": "stdout",
     "output_type": "stream",
     "text": [
      "<class 'pandas.core.frame.DataFrame'>\n",
      "Int64Index: 263 entries, 1 to 321\n",
      "Data columns (total 20 columns):\n",
      "AtBat        263 non-null int64\n",
      "Hits         263 non-null int64\n",
      "HmRun        263 non-null int64\n",
      "Runs         263 non-null int64\n",
      "RBI          263 non-null int64\n",
      "Walks        263 non-null int64\n",
      "Years        263 non-null int64\n",
      "CAtBat       263 non-null int64\n",
      "CHits        263 non-null int64\n",
      "CHmRun       263 non-null int64\n",
      "CRuns        263 non-null int64\n",
      "CRBI         263 non-null int64\n",
      "CWalks       263 non-null int64\n",
      "League       263 non-null object\n",
      "Division     263 non-null object\n",
      "PutOuts      263 non-null int64\n",
      "Assists      263 non-null int64\n",
      "Errors       263 non-null int64\n",
      "Salary       263 non-null float64\n",
      "NewLeague    263 non-null object\n",
      "dtypes: float64(1), int64(16), object(3)\n",
      "memory usage: 43.1+ KB\n"
     ]
    }
   ],
   "source": [
    "# TODO\n",
    "df = df.dropna()\n",
    "df = df.drop(df.columns[[0]], axis=1)\n",
    "df.info()"
   ]
  },
  {
   "cell_type": "markdown",
   "metadata": {},
   "source": [
    "You should see that three of the columns have `object` types.  These are categorical variables.  For example, `Division` is `E` or `W` for East or West.  We need to convert these to numeric values using one-hot coding.  Pandas has a routine for this called `get_dummies`.  Run `get_dummies` on the dataframe and run the `info` command to print the new columns."
   ]
  },
  {
   "cell_type": "code",
   "execution_count": 203,
   "metadata": {},
   "outputs": [
    {
     "name": "stdout",
     "output_type": "stream",
     "text": [
      "<class 'pandas.core.frame.DataFrame'>\n",
      "Int64Index: 263 entries, 1 to 321\n",
      "Data columns (total 23 columns):\n",
      "AtBat          263 non-null int64\n",
      "Hits           263 non-null int64\n",
      "HmRun          263 non-null int64\n",
      "Runs           263 non-null int64\n",
      "RBI            263 non-null int64\n",
      "Walks          263 non-null int64\n",
      "Years          263 non-null int64\n",
      "CAtBat         263 non-null int64\n",
      "CHits          263 non-null int64\n",
      "CHmRun         263 non-null int64\n",
      "CRuns          263 non-null int64\n",
      "CRBI           263 non-null int64\n",
      "CWalks         263 non-null int64\n",
      "PutOuts        263 non-null int64\n",
      "Assists        263 non-null int64\n",
      "Errors         263 non-null int64\n",
      "Salary         263 non-null float64\n",
      "League_A       263 non-null uint8\n",
      "League_N       263 non-null uint8\n",
      "Division_E     263 non-null uint8\n",
      "Division_W     263 non-null uint8\n",
      "NewLeague_A    263 non-null uint8\n",
      "NewLeague_N    263 non-null uint8\n",
      "dtypes: float64(1), int64(16), uint8(6)\n",
      "memory usage: 38.5 KB\n"
     ]
    }
   ],
   "source": [
    "# TODO\n",
    "df = pd.get_dummies(df)\n",
    "df.info()"
   ]
  },
  {
   "cell_type": "markdown",
   "metadata": {},
   "source": [
    "You can see that the field such as `Division` has been converted to two fields `Division_E` and `Division_W`.  For one-hot coding we can remove one of each of the new fields.  Use the `df.drop(...)` method to do this."
   ]
  },
  {
   "cell_type": "code",
   "execution_count": 204,
   "metadata": {},
   "outputs": [],
   "source": [
    "# TODO\n",
    "df = df.drop(['League_N', 'Division_W', 'NewLeague_N'], axis=1)  # Put the list of columns to drop in the arguments"
   ]
  },
  {
   "cell_type": "markdown",
   "metadata": {},
   "source": [
    "Extract the `salary` column from the `df` dataframe and convert it to a `numpy` array `y`.  This will be the target vector."
   ]
  },
  {
   "cell_type": "code",
   "execution_count": 205,
   "metadata": {},
   "outputs": [],
   "source": [
    "# TODO\n",
    "y = np.asarray(df[['Salary']], dtype = np.float64)"
   ]
  },
  {
   "cell_type": "markdown",
   "metadata": {},
   "source": [
    "For the features, first create a dataframe `dfX` with the `salary` column removed.  You can use the `df.drop(...)` method.  Then, get a list of the feature names `features` from `dfX.columns.tolist()`.  We will use this list for printing later. Then, convert the dataframe `dfX` to a numpy array `X` for the data matrix of all the othe features."
   ]
  },
  {
   "cell_type": "code",
   "execution_count": 206,
   "metadata": {},
   "outputs": [],
   "source": [
    "# TODO\n",
    "dfX = df.drop(['Salary'], axis = 1)\n",
    "features = dfX.columns.tolist()\n",
    "X = dfX.values"
   ]
  },
  {
   "cell_type": "markdown",
   "metadata": {},
   "source": [
    "Print the number of samples, number of features, average salary and std deviation of the salary.  Note the salary is 1000s of US dollars."
   ]
  },
  {
   "cell_type": "code",
   "execution_count": 207,
   "metadata": {},
   "outputs": [
    {
     "name": "stdout",
     "output_type": "stream",
     "text": [
      "Number of samples:  263 \n",
      "\n",
      "Number of features:  19 \n",
      "\n",
      "Average salary:  $ 535930.0 \n",
      "\n",
      "Standard deviation of salary:  $ 450260.0\n"
     ]
    }
   ],
   "source": [
    "# TODO\n",
    "print('Number of samples: ', len(X), '\\n')\n",
    "print('Number of features: ', len(features), '\\n')\n",
    "print('Average salary:  $', 1000*np.mean(y).round(2), '\\n')\n",
    "print('Standard deviation of salary:  $', 1000*np.std(y).round(2))"
   ]
  },
  {
   "cell_type": "markdown",
   "metadata": {},
   "source": [
    "Finally, before continuing, we want to scale the features `X` and target `y` so that they have mean 0 and unit variance.  To do this, use the `preprocessing.scale` method.  Let `Xs` and `ys` be the scaled feature matrix."
   ]
  },
  {
   "cell_type": "code",
   "execution_count": 211,
   "metadata": {},
   "outputs": [],
   "source": [
    "from sklearn import preprocessing\n",
    "\n",
    "# TODO \n",
    "X = X.astype(float)   # Needed to avoid a warning with the scale method\n",
    "Xs = preprocessing.scale(X)\n",
    "ys = preprocessing.scale(y)"
   ]
  },
  {
   "cell_type": "markdown",
   "metadata": {},
   "source": [
    "# Linear Models with No Regularization\n",
    "\n",
    "First, we will try to fit the data with a linear model with no regularization.  First, split the data into training and test using half the samples for each.  You can use the `train_test_split` method. "
   ]
  },
  {
   "cell_type": "code",
   "execution_count": 212,
   "metadata": {},
   "outputs": [],
   "source": [
    "from sklearn.model_selection import train_test_split\n",
    "\n",
    "#TODO\n",
    "X_tr,X_ts, y_tr,y_ts = train_test_split(Xs, ys, test_size = 0.5, random_state = 1)"
   ]
  },
  {
   "cell_type": "markdown",
   "metadata": {},
   "source": [
    "Now use the `linear_model.LinearRegression()` to fit a linear model on the training data.  Measure the normalized MSE on the training and test data.  By normalized MSE we mean:\n",
    "\n",
    "    mse = np.mean((y-yhat)**2)/np.mean(y**2)\n",
    "  \n",
    "where `y` is the mean-removed true value and `yhat` is the predicted value.  This is the percentage of variance not explained by the model.   "
   ]
  },
  {
   "cell_type": "code",
   "execution_count": 213,
   "metadata": {},
   "outputs": [
    {
     "name": "stdout",
     "output_type": "stream",
     "text": [
      "Normalized MSE on the training data:  0.388\n",
      "Normalized MSE on the testing data:  0.675\n"
     ]
    }
   ],
   "source": [
    "from sklearn import linear_model\n",
    "\n",
    "# TODO:  Fit linear model \n",
    "lr = linear_model.LinearRegression()\n",
    "lr.fit(X_tr, y_tr)\n",
    "\n",
    "# TODO:  Measure normalized mse for the training set and print\n",
    "yhat_tr = lr.predict(X_tr)\n",
    "mse_tr = np.mean((y_tr-yhat_tr)**2)/np.mean(y_tr**2)\n",
    "print('Normalized MSE on the training data: ', round(mse_tr, 3))\n",
    "\n",
    "# TODO:  Measure normalized mse for the test set and print\n",
    "yhat_ts = lr.predict(X_ts)\n",
    "mse_ts = np.mean((y_ts-yhat_ts)**2)/np.mean(y_ts**2)\n",
    "print('Normalized MSE on the testing data: ', round(mse_ts, 3))"
   ]
  },
  {
   "cell_type": "markdown",
   "metadata": {},
   "source": [
    "## LASSO\n",
    "\n",
    "If you did the above correctly, you should see that the test MSE is a lot higher than the training MSE.  This suggests over-fitting. To avoid this, we will use LASSO in combination with k-fold cross validation.  The `sklearn` package has many methods for this purpose. In particular, there is a method `LassoCV()` that performs cross-validation and LASSO fitting.  But, here we will do the cross-validation and regularization selection manually so that you can see how it is done. \n",
    "\n",
    "Toward this end, we first construct a K-fold object with the `model_selection.KFold(...)` command.  Set the parameter `n_splits=nfold` with `nfold = 10`.  Also, set `shuffle=True` to make sure the data is shuffled."
   ]
  },
  {
   "cell_type": "code",
   "execution_count": 214,
   "metadata": {},
   "outputs": [],
   "source": [
    "from sklearn import model_selection\n",
    "nfold = 10\n",
    "\n",
    "# TODO\n",
    "kf = model_selection.KFold(n_splits = nfold, random_state = 1, shuffle = True)"
   ]
  },
  {
   "cell_type": "markdown",
   "metadata": {},
   "source": [
    "Set the `alpha` values to test in some range.  In this case, it is useful to logarithically space `alpha` from 1e-4 to 1e3."
   ]
  },
  {
   "cell_type": "code",
   "execution_count": 263,
   "metadata": {},
   "outputs": [],
   "source": [
    "# TODO:  Create alpha values to test \n",
    "nalpha = 100\n",
    "\n",
    "alpha_test = np.logspace(-4, 3, num = nalpha)"
   ]
  },
  {
   "cell_type": "markdown",
   "metadata": {},
   "source": [
    "Now, we do the main cross-validation loop.   You can do this by completing the following code."
   ]
  },
  {
   "cell_type": "code",
   "execution_count": 264,
   "metadata": {},
   "outputs": [
    {
     "name": "stdout",
     "output_type": "stream",
     "text": [
      "fold = 0 \n"
     ]
    },
    {
     "name": "stderr",
     "output_type": "stream",
     "text": [
      "/Library/Frameworks/Python.framework/Versions/3.6/lib/python3.6/site-packages/sklearn/linear_model/coordinate_descent.py:491: ConvergenceWarning: Objective did not converge. You might want to increase the number of iterations. Fitting data with very small alpha may cause precision problems.\n",
      "  ConvergenceWarning)\n"
     ]
    },
    {
     "name": "stdout",
     "output_type": "stream",
     "text": [
      "fold = 1 \n",
      "fold = 2 \n",
      "fold = 3 \n",
      "fold = 4 \n",
      "fold = 5 \n",
      "fold = 6 \n",
      "fold = 7 \n",
      "fold = 8 \n",
      "fold = 9 \n"
     ]
    }
   ],
   "source": [
    "# Construct the LASSO estimator\n",
    "model = linear_model.Lasso(alpha=1e-3)\n",
    "\n",
    "# Create an array to store the MSE values\n",
    "mse_ts = np.zeros((nalpha,nfold))\n",
    "\n",
    "for isplit, Ind in enumerate(kf.split(Xs)):\n",
    "    print(\"fold = %d \" % isplit)\n",
    "\n",
    "    # TODO:  Get the training data in the split\n",
    "    Xtr = Xs[Ind[0].tolist()]\n",
    "    Xts = Xs[Ind[1].tolist()]\n",
    "    ytr = ys[Ind[0].tolist()]\n",
    "    yts = ys[Ind[1].tolist()]\n",
    "\n",
    "    # Loop over the alpha values    \n",
    "    for it, a in enumerate(alpha_test):\n",
    "\n",
    "        # TODO:  Set the model `alpha` value\n",
    "        model.alpha = a\n",
    "\n",
    "        # TODO:  Fit the data on the training data \n",
    "        model.fit(Xtr, ytr)\n",
    "\n",
    "        # TODO:  Measure the normalized mse on test data\n",
    "        yhat = model.predict(Xts)\n",
    "        # mse_ts = np.empty(shape = (nalpha, nfold), dtype = np.float64)\n",
    "        mse_ts[it,isplit] = np.mean((yts-yhat)**2)/np.mean(yts**2)\n",
    "\n",
    "# done"
   ]
  },
  {
   "cell_type": "code",
   "execution_count": 276,
   "metadata": {},
   "outputs": [
    {
     "data": {
      "text/plain": [
       "54"
      ]
     },
     "execution_count": 276,
     "metadata": {},
     "output_type": "execute_result"
    }
   ],
   "source": [
    "np.argmin(mse_mean)"
   ]
  },
  {
   "cell_type": "markdown",
   "metadata": {},
   "source": [
    "Using the values in the array `mse_ts` compute the mean and standard error for the MSE values across the folds."
   ]
  },
  {
   "cell_type": "code",
   "execution_count": 265,
   "metadata": {},
   "outputs": [],
   "source": [
    "# TODO\n",
    "mse_mean = np.mean(mse_ts, axis = 1)\n",
    "mse_se = np.std(mse_ts, axis = 1)"
   ]
  },
  {
   "cell_type": "markdown",
   "metadata": {},
   "source": [
    "Using the `errorbar` plot, plot the mean mse with the errorbars equal to the standard error as a function of `alpha`.  Label the axes.  And plot `alpha` in log-scale."
   ]
  },
  {
   "cell_type": "code",
   "execution_count": 324,
   "metadata": {},
   "outputs": [
    {
     "data": {
      "text/plain": [
       "Text(0,0.5,'Mean MSE')"
      ]
     },
     "execution_count": 324,
     "metadata": {},
     "output_type": "execute_result"
    },
    {
     "data": {
      "image/png": "[encoded data removed]",
      "text/plain": [
       "<Figure size 432x288 with 1 Axes>"
      ]
     },
     "metadata": {},
     "output_type": "display_data"
    }
   ],
   "source": [
    "# TODO\n",
    "plt.figure()\n",
    "plt.errorbar(alpha_test, mse_mean, yerr=mse_se, ecolor = 'r')\n",
    "plt.xscale('log')\n",
    "plt.title(\"Mean MSE vs. Alpha Errorbars\")\n",
    "plt.xlabel('Alpha')\n",
    "plt.ylabel('Mean MSE')"
   ]
  },
  {
   "cell_type": "markdown",
   "metadata": {},
   "source": [
    "Print the optimal alpha under the *normal rule*.  That is, the alpha that minimizes the mean test MSE.  Also, print the corresponding minimum MSE."
   ]
  },
  {
   "cell_type": "code",
   "execution_count": 280,
   "metadata": {},
   "outputs": [
    {
     "name": "stdout",
     "output_type": "stream",
     "text": [
      "Alpha that minimizes test MSE:  0.658\n",
      "Minimum mean MSE:  1.002\n"
     ]
    }
   ],
   "source": [
    "# TODO\n",
    "print('Alpha that minimizes test MSE: ', alpha_test[np.argmin(mse_mean)].round(3))\n",
    "print('Minimum mean MSE: ', min(mse_mean).round(3))"
   ]
  },
  {
   "cell_type": "markdown",
   "metadata": {},
   "source": [
    "Now print the optimal alpha and MSE under the *one SE rule*."
   ]
  },
  {
   "cell_type": "code",
   "execution_count": 299,
   "metadata": {},
   "outputs": [
    {
     "name": "stdout",
     "output_type": "stream",
     "text": [
      "Optimal alpha:  0.559 \n",
      "\n",
      "MSE under optimal alpha:  1.003\n"
     ]
    }
   ],
   "source": [
    "# TODO\n",
    "mse_mean_list = mse_mean.tolist()\n",
    "mse_mean_list = mse_mean_list\n",
    "\n",
    "# this long line basically finds all indices of those MSE values that are within 1 SE interval\n",
    "ind = [i for i,x in enumerate(mse_mean_list) if ( x < min(mse_mean)+mse_se[np.argmin(mse_mean)] \n",
    "                                                 and x > min(mse_mean)-mse_se[np.argmin(mse_mean)])]\n",
    "\n",
    "# since all test alpha's are sorted from small to large the smallest alpha simply has the smallest index!\n",
    "# so I simply called for optimal alpha by using the smallest index within the interval\n",
    "print('Optimal alpha: ', alpha_test[min(ind)].round(3), '\\n')\n",
    "print('MSE under optimal alpha: ', mse_mean[min(ind)].round(3))\n"
   ]
  },
  {
   "cell_type": "markdown",
   "metadata": {},
   "source": [
    "Finally, re-fit the model on the entire dataset using the `alpha` from the one SE rule.  Print the coefficients along with the feature names.  Your print out should be something like:\n",
    "\n",
    "     AtBat 0.000000\n",
    "      Hits 0.151910\n",
    "     HmRun 0.000000\n",
    "      Runs 0.000000\n",
    "       RBI 0.000000\n",
    "    ...\n",
    "     \n",
    "This way you can see which features are important."
   ]
  },
  {
   "cell_type": "code",
   "execution_count": 322,
   "metadata": {},
   "outputs": [
    {
     "name": "stdout",
     "output_type": "stream",
     "text": [
      "     AtBat 0.000000\n",
      "      Hits 0.000000\n",
      "     HmRun 0.000000\n",
      "      Runs 0.000000\n",
      "       RBI 0.000000\n",
      "     Walks 0.000000\n",
      "     Years 0.000000\n",
      "    CAtBat 0.000000\n",
      "     CHits 0.000000\n",
      "    CHmRun 0.000000\n",
      "     CRuns 0.000000\n",
      "      CRBI 0.007885\n",
      "    CWalks 0.000000\n",
      "   PutOuts 0.000000\n",
      "   Assists 0.000000\n",
      "    Errors -0.000000\n",
      "    Salary 0.000000\n",
      "  League_A 0.000000\n",
      "Division_E 0.000000\n"
     ]
    }
   ],
   "source": [
    "op_alpha = alpha_test[min(ind)]\n",
    "model.alpha = op_alpha\n",
    "\n",
    "model.fit(Xs, ys)\n",
    "\n",
    "for i, coef in enumerate(model.coef_):\n",
    "    print('{:>10} {:f}'.format(df.columns[i], coef))"
   ]
  },
  {
   "cell_type": "code",
   "execution_count": 303,
   "metadata": {},
   "outputs": [
    {
     "data": {
      "text/plain": [
       "'Hits'"
      ]
     },
     "execution_count": 303,
     "metadata": {},
     "output_type": "execute_result"
    }
   ],
   "source": [
    "df.columns[1]"
   ]
  },
  {
   "cell_type": "markdown",
   "metadata": {},
   "source": [
    "## Lasso path\n",
    "\n",
    "Finally, we will plot the LASSO path to visualize how the coefficients vary with `alpha`.  Read about the `lasso_path` method in sklearn and compute and plot the LASSO path."
   ]
  },
  {
   "cell_type": "code",
   "execution_count": 351,
   "metadata": {},
   "outputs": [
    {
     "data": {
      "text/plain": [
       "(0.0001, 1.0)"
      ]
     },
     "execution_count": 351,
     "metadata": {},
     "output_type": "execute_result"
    },
    {
     "data": {
      "image/png": "[encoded data removed]",
      "text/plain": [
       "<Figure size 432x288 with 1 Axes>"
      ]
     },
     "metadata": {},
     "output_type": "display_data"
    }
   ],
   "source": [
    "# TODO\n",
    "from itertools import cycle\n",
    "alphas1, coeffs, _ = linear_model.lasso_path(Xs, ys, alphas = alpha_test, fit_intercept = False)\n",
    "\n",
    "colors = cycle(['b', 'r', 'g', 'c', 'k'])\n",
    "\n",
    "for coef_l, c in zip(coeffs[0], colors):\n",
    "    plt.plot(alphas1, coef_l, c=c)\n",
    "\n",
    "plt.xscale('log')\n",
    "plt.title(\"Lasso Path Plot\")\n",
    "plt.xlabel('Alpha')\n",
    "plt.ylabel('Coefficients')\n",
    "plt.xlim(1e-4, 1e0)"
   ]
  },
  {
   "cell_type": "markdown",
   "metadata": {
    "collapsed": true
   },
   "source": [
    "What are the first eight coefficients that become non-zero in the LASSO path?  \n",
    "\n",
    "One way to do this is as follows:  Recall that `coeffs[i,j]` is the coeffiecient for feature `i` for alpha value `j`.  Compute `nnz[i] = ` the number of alpha values `j` for which the coefficients `coeffs[i,j]` are non-zero.   Then, sort the features by `nnz[i]` in descending order will give the feature indices in order that they appear in the LASSO path.  Print the features names in order."
   ]
  },
  {
   "cell_type": "code",
   "execution_count": 398,
   "metadata": {},
   "outputs": [
    {
     "name": "stdout",
     "output_type": "stream",
     "text": [
      "CRBI\n",
      "CRuns\n",
      "Hits\n",
      "Walks\n",
      "PutOuts\n",
      "League_A\n",
      "Salary\n",
      "Errors\n"
     ]
    }
   ],
   "source": [
    "# TODO\n",
    "# first fix the dimensions since I don't know why my coeffs generated by lass_path() has 3 dimensions\n",
    "# that is coeffs.shape  >>>  (1, 19, 100)\n",
    "from operator import itemgetter\n",
    "\n",
    "coeffs2 = coeffs[0]\n",
    "\n",
    "nnz = np.zeros((20, 2))\n",
    "for i, v in enumerate(coeffs2):\n",
    "    nnz[i, 1] = sum(1 for x in v if x != 0)\n",
    "    nnz[i, 0] = i\n",
    "\n",
    "nnz = sorted(nnz, key=itemgetter(1), reverse=True)\n",
    "\n",
    "for k, i in enumerate(nnz):\n",
    "    a = int(i[0])\n",
    "    print(df.columns[a])\n",
    "    if k == 7:\n",
    "        break"
   ]
  }
 ],
 "metadata": {
  "anaconda-cloud": {},
  "kernelspec": {
   "display_name": "Python 3",
   "language": "python",
   "name": "python3"
  },
  "language_info": {
   "codemirror_mode": {
    "name": "ipython",
    "version": 3
   },
   "file_extension": ".py",
   "mimetype": "text/x-python",
   "name": "python",
   "nbconvert_exporter": "python",
   "pygments_lexer": "ipython3",
   "version": "3.6.5"
  }
 },
 "nbformat": 4,
 "nbformat_minor": 1
}
