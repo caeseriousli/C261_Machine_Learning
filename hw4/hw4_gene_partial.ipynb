{
 "cells": [
  {
   "cell_type": "markdown",
   "metadata": {},
   "source": [
    "# Logistic Regression for Gene Expression Data\n",
    "\n",
    "In this exercise, we use logistic regression to predict biological characteristics (\"phenotypes\") from gene expression data. In doing this exercise, you will learn to:\n",
    "* Handle missing data\n",
    "* Perform multi-class logistic classification\n",
    "* Create a confusion matrix (a table of the fraction of samples of class i being confused with class j)\n",
    "* Use L1-regularization for improved estimation in the case of sparse weights \n",
    "\n",
    "## Background\n",
    "\n",
    "Genes are the basic unit in the DNA and encode blueprints for proteins.  When proteins are synthesized from a gene, the gene is said to \"express\".  Micro-arrays are devices that measure the expression levels of large numbers of genes in parallel.  By finding correlations between expression levels and phenotypes, scientists can identify possible genetic markers for biological characteristics.\n",
    "\n",
    "The data in this lab comes from:\n",
    "\n",
    "https://archive.ics.uci.edu/ml/datasets/Mice+Protein+Expression\n",
    "\n",
    "In this data, mice were characterized by three properties:\n",
    "* Whether they had down's syndrome (trisomy) or not\n",
    "* Whether they were stimulated to learn or not\n",
    "* Whether they had a drug memantine or a saline control solution.\n",
    "\n",
    "With these three choices, there are 8 possible classes for each mouse.  For each mouse, the expression levels were measured across 77 genes.  We will see if the characteristics can be predicted from the gene expression levels.  This classification could reveal which genes are potentially involved in Down's syndrome and if drugs and learning have any noticeable effects.\n"
   ]
  },
  {
   "cell_type": "markdown",
   "metadata": {},
   "source": [
    "## Load the Data\n",
    "\n",
    "We begin by loading the standard modules."
   ]
  },
  {
   "cell_type": "code",
   "execution_count": 1,
   "metadata": {},
   "outputs": [],
   "source": [
    "import pandas as pd\n",
    "import numpy as np\n",
    "import matplotlib\n",
    "import matplotlib.pyplot as plt\n",
    "%matplotlib inline\n",
    "from sklearn import linear_model, preprocessing"
   ]
  },
  {
   "cell_type": "markdown",
   "metadata": {},
   "source": [
    "Use the `pd.read_excel` command to read the data from \n",
    "\n",
    "https://archive.ics.uci.edu/ml/machine-learning-databases/00342/Data_Cortex_Nuclear.xls\n",
    "\n",
    "into a dataframe `df`.  Use the `index_col` option to specify that column 0 is the index.  Use the `df.head()` to print the first few rows."
   ]
  },
  {
   "cell_type": "code",
   "execution_count": 3,
   "metadata": {},
   "outputs": [],
   "source": [
    "# TODO\n",
    "df = pd.read_excel(\"/Users/caesar/Dropbox/C261/Data_Cortex_Nuclear.xls\")"
   ]
  },
  {
   "cell_type": "markdown",
   "metadata": {},
   "source": [
    "This data has missing values.  The site:\n",
    "\n",
    "http://pandas.pydata.org/pandas-docs/stable/missing_data.html\n",
    "\n",
    "has an excellent summary of methods to deal with missing values.  Following the techniques there, create a new data frame `df1` where the missing values in each column are filled with the mean values from the non-missing values."
   ]
  },
  {
   "cell_type": "code",
   "execution_count": 4,
   "metadata": {},
   "outputs": [],
   "source": [
    "# TODO\n",
    "df1 = df.fillna(df.mean())"
   ]
  },
  {
   "cell_type": "markdown",
   "metadata": {},
   "source": [
    "## Binary Classification for Down's Syndrome\n",
    "\n",
    "We will first predict the binary class label in `df1['Genotype']` which indicates if the mouse has Down's syndrome or not.  Get the string values in `df1['Genotype'].values` and convert this to a numeric vector `y` with 0 or 1.  You may wish to use the `np.unique` command with the `return_inverse=True` option."
   ]
  },
  {
   "cell_type": "code",
   "execution_count": 77,
   "metadata": {},
   "outputs": [],
   "source": [
    "# TODO\n",
    "vals, y = np.unique(df1['Genotype'], return_inverse = True)\n",
    "\n",
    "vals = np.array([0, 1])\n",
    "\n",
    "df1['Genotype'] = pd.Series(vals[y])"
   ]
  },
  {
   "cell_type": "markdown",
   "metadata": {},
   "source": [
    "For the predictors, we will use all but the last four columns of the dataframes.  First, get the names of these genes with the command:\n",
    "\n",
    "    xnames = df1.columns[:-4]\n",
    "    \n",
    "Then, get the data values corresponding to these columns and store the values in a matrix `X`.  This matrix will have the expression levels for the 77 genes.  Standardize the data matrix and call the standardized matrix `Xs`. "
   ]
  },
  {
   "cell_type": "code",
   "execution_count": 78,
   "metadata": {},
   "outputs": [],
   "source": [
    "from sklearn import preprocessing\n",
    "\n",
    "# Get names of the genes\n",
    "xnames=df1.columns[1:-4]\n",
    "\n",
    "# TODO\n",
    "X = df1[xnames]\n",
    "Xs = preprocessing.scale(X)"
   ]
  },
  {
   "cell_type": "markdown",
   "metadata": {},
   "source": [
    "Create a `LogisticRegression` object `logreg` and `fit` the training data.  You can leave the arguments blank or specify `C=1`; those are equivalent.  `C` is an inverse L2 regularization constant.  Changing it changes the results."
   ]
  },
  {
   "cell_type": "code",
   "execution_count": 79,
   "metadata": {},
   "outputs": [
    {
     "data": {
      "text/plain": [
       "LogisticRegression(C=1, class_weight=None, dual=False, fit_intercept=True,\n",
       "          intercept_scaling=1, max_iter=100, multi_class='ovr', n_jobs=1,\n",
       "          penalty='l2', random_state=None, solver='liblinear', tol=0.0001,\n",
       "          verbose=0, warm_start=False)"
      ]
     },
     "execution_count": 79,
     "metadata": {},
     "output_type": "execute_result"
    }
   ],
   "source": [
    "# TODO\n",
    "logreg = c\n",
    "logreg.fit(Xs, vals[y])"
   ]
  },
  {
   "cell_type": "markdown",
   "metadata": {},
   "source": [
    "Measure the accuracy of the classifer.  That is, use the `logreg.predict` function to predict labels `yhat` and measure the fraction of time that the predictions match the true labels.  Below, we will properly measure the accuracy on cross-validation data."
   ]
  },
  {
   "cell_type": "code",
   "execution_count": 80,
   "metadata": {},
   "outputs": [
    {
     "name": "stdout",
     "output_type": "stream",
     "text": [
      "Fraction of true predictions:  0.985\n"
     ]
    }
   ],
   "source": [
    "# TODO\n",
    "yhat = logreg.predict(Xs)\n",
    "y = vals[y]\n",
    "acc = sum(yhat == y)\n",
    "print(\"Fraction of true predictions: \", round(acc/len(yhat), 3))"
   ]
  },
  {
   "cell_type": "markdown",
   "metadata": {},
   "source": [
    "## Interpreting the weight vector"
   ]
  },
  {
   "cell_type": "markdown",
   "metadata": {},
   "source": [
    "Create a stem plot of the coefficients, `W` in the logistic regression model.  You can get the coefficients from `logreg.coef_`, but you will need to reshape this to a 1D array.  (Unlike in R or matlab, in Python, an `n`-length row or column vector is considered to be of shape or size `n`.  It is a 1-dimensional object, not an `nx1` or `1xn` object.  So a 2D array consisting of only 1 row or 1 column is not the same thing as being a 1D array.  You can use the `ravel` method where if `u` is `1xn`, `u.ravel()` would return a 1d version of `u`.)"
   ]
  },
  {
   "cell_type": "code",
   "execution_count": 81,
   "metadata": {},
   "outputs": [
    {
     "data": {
      "text/plain": [
       "Text(0,0.5,'Coeff values')"
      ]
     },
     "execution_count": 81,
     "metadata": {},
     "output_type": "execute_result"
    },
    {
     "data": {
      "image/png": "[encoded data removed]",
      "text/plain": [
       "<Figure size 432x288 with 1 Axes>"
      ]
     },
     "metadata": {},
     "output_type": "display_data"
    }
   ],
   "source": [
    "# TODO\n",
    "W = logreg.coef_\n",
    "W = np.ravel(W)\n",
    "# Plot W\n",
    "plt.figure()\n",
    "plt.stem(W)\n",
    "plt.title(\"Regression Coeffs Stem Plot\")\n",
    "plt.xlabel(\"Coefficients\")\n",
    "plt.ylabel(\"Coeff values\")"
   ]
  },
  {
   "cell_type": "markdown",
   "metadata": {},
   "source": [
    "You should see that `W[i]` is very large for a few components `i`.  These are the genes that are likely to be most involved in Down's Syndrome.  Although, we do not discuss it in this class, there are ways to force the logistic regression to return a sparse vector `W`.  \n",
    "\n",
    "Find the names of the genes for two components `i` where the magnitude of `W[i]` is largest. You could use the command np.argsort with the appropriate arguments."
   ]
  },
  {
   "cell_type": "code",
   "execution_count": 82,
   "metadata": {},
   "outputs": [
    {
     "name": "stdout",
     "output_type": "stream",
     "text": [
      "Two most invovled genes components:  [24 23]\n"
     ]
    }
   ],
   "source": [
    "# TODO\n",
    "large = np.argsort(W)\n",
    "print(\"Two most invovled genes components: \", large[0:2])"
   ]
  },
  {
   "cell_type": "markdown",
   "metadata": {},
   "source": [
    "## Cross Validation\n",
    "\n",
    "The above meaured the accuracy on the training data.  It is better to measure the accuracy on the test data.  Perform 10-fold cross validation and measure the accuracy.  Note, that in performing the cross-validation, you will want to randomly permute the test and training sets using the `shuffle` option.  In this data set, all the samples from each class are bunched together, so shuffling is essential.  Print the mean accuracy across all the folds.  (If you already did the homework and found precision, f1-score and recall, that is fine.  You do not have to redo this slightly easier version. If you want to the latter, you will need to import precision_recall_fscore_support from sklearn.metrics.)"
   ]
  },
  {
   "cell_type": "code",
   "execution_count": 83,
   "metadata": {},
   "outputs": [
    {
     "name": "stdout",
     "output_type": "stream",
     "text": [
      "Mean accuracy across all folds =  0.972\n"
     ]
    }
   ],
   "source": [
    "# TODO A possible beginning here\n",
    "from sklearn.model_selection import KFold\n",
    "\n",
    "# This line is not necesssary if you are just finding accuracy\n",
    "from sklearn.metrics import precision_recall_fscore_support\n",
    "\n",
    "nfold = 10\n",
    "kf = KFold(n_splits=nfold, random_state = 1,shuffle=True)\n",
    "\n",
    "# Create an empty list acc with desired length, for memory efficiency\n",
    "acc = [None]*nfold\n",
    "\n",
    "for i, v in enumerate(kf.split(Xs)):\n",
    "    Xtr = Xs[v[0].tolist()]\n",
    "    Xts = Xs[v[1].tolist()]\n",
    "    ytr = y[v[0].tolist()]\n",
    "    yts = y[v[1].tolist()]\n",
    "    \n",
    "    # Calculate and store all accuracies\n",
    "    logreg.fit(Xtr, ytr)\n",
    "    yhati = logreg.predict(Xts)\n",
    "    # Store the fractions directly in acc\n",
    "    acc[i] = sum(yhati == yts)/len(yts)\n",
    "\n",
    "# Print results\n",
    "print(\"Mean accuracy across all folds = \", round(np.mean(acc), 3))"
   ]
  },
  {
   "cell_type": "markdown",
   "metadata": {},
   "source": [
    "## Multi-Class Classification\n",
    "\n",
    "Now use the response variable in `df1['class']`.  This data has 8 possible classes from the three binary properties of mice described above.  Use the `np.unique` funtion as before to convert this to a vector `y` with values 0 to 7. You can see them by starting below."
   ]
  },
  {
   "cell_type": "code",
   "execution_count": 93,
   "metadata": {},
   "outputs": [],
   "source": [
    "ystr = df1['class'].values\n",
    "# TODO\n",
    "vals, y = np.unique(ystr, return_inverse = True)\n",
    "\n",
    "vals2 = np.array(list(range(8)))\n",
    "\n",
    "df1['class'] = pd.Series(vals2[y])\n",
    "\n",
    "# Create this response variable object\n",
    "y = vals2[y]"
   ]
  },
  {
   "cell_type": "markdown",
   "metadata": {},
   "source": [
    "Fit a multi-class logistic model by creating a `LogisticRegression` object, `logreg` and then calling the `logreg.fit` method.  Again, use C=1 or leave the arguments blank.  "
   ]
  },
  {
   "cell_type": "code",
   "execution_count": 95,
   "metadata": {},
   "outputs": [
    {
     "data": {
      "text/plain": [
       "LogisticRegression(C=1, class_weight=None, dual=False, fit_intercept=True,\n",
       "          intercept_scaling=1, max_iter=100, multi_class='ovr', n_jobs=1,\n",
       "          penalty='l2', random_state=None, solver='liblinear', tol=0.0001,\n",
       "          verbose=0, warm_start=False)"
      ]
     },
     "execution_count": 95,
     "metadata": {},
     "output_type": "execute_result"
    }
   ],
   "source": [
    "# TODO\n",
    "logreg = linear_model.LogisticRegression(C=1)\n",
    "logreg.fit(Xs, y)"
   ]
  },
  {
   "cell_type": "markdown",
   "metadata": {},
   "source": [
    "Measure the accuracy on the training data."
   ]
  },
  {
   "cell_type": "code",
   "execution_count": 96,
   "metadata": {},
   "outputs": [
    {
     "name": "stdout",
     "output_type": "stream",
     "text": [
      "Accuracy (Fraction of true predictions):  0.999\n"
     ]
    }
   ],
   "source": [
    "# TODO\n",
    "# Just the same as before\n",
    "yhat = logreg.predict(Xs)\n",
    "acc = sum(yhat == y)\n",
    "print(\"Accuracy (Fraction of true predictions): \", round(acc/len(yhat), 3))"
   ]
  },
  {
   "cell_type": "markdown",
   "metadata": {},
   "source": [
    "Now perform 10-fold cross validation, and measure the confusion matrix `C` on the test data in each fold. You can use the `confusion_matrix` method in the `sklearn` package.  Add the confusion matrix counts across all folds and then normalize the rows of the confusion matrix so that they sum to one.  Thus, each element `C[i,j]` will represent the fraction of samples where `yhat==j` given `ytrue==i`.  Print the confusion matrix.  You can use the command\n",
    "\n",
    "    print(np.array_str(C, precision=4, suppress_small=True))\n",
    "    \n",
    "to create a nicely formatted print.  Also print the overall mean and SE of the test accuracy across the folds."
   ]
  },
  {
   "cell_type": "code",
   "execution_count": 112,
   "metadata": {},
   "outputs": [
    {
     "name": "stdout",
     "output_type": "stream",
     "text": [
      "[[0.9998 0.0068 0.     0.     0.0205 0.     0.     0.    ]\n",
      " [0.0075 0.9999 0.     0.     0.0075 0.     0.     0.    ]\n",
      " [0.     0.     1.     0.     0.     0.     0.     0.0067]\n",
      " [0.0075 0.     0.     1.     0.     0.     0.     0.    ]\n",
      " [0.0075 0.0075 0.     0.     0.9999 0.     0.     0.    ]\n",
      " [0.     0.     0.     0.     0.     1.     0.     0.    ]\n",
      " [0.     0.     0.     0.     0.     0.     1.     0.    ]\n",
      " [0.     0.     0.     0.     0.     0.     0.     1.    ]]\n"
     ]
    }
   ],
   "source": [
    "# TODO  POssible beginning\n",
    "from sklearn.metrics import confusion_matrix\n",
    "from sklearn.model_selection import KFold\n",
    "\n",
    "logreg = linear_model.LogisticRegression()\n",
    "\n",
    "# Initialize the confusion matrix counts\n",
    "ny = np.max(y)\n",
    "C = np.zeros((ny+1,ny+1))\n",
    "\n",
    "nfold = 10\n",
    "kf = KFold(n_splits=nfold, random_state = 1,shuffle=True)\n",
    "\n",
    "for i, v in enumerate(kf.split(Xs)):\n",
    "    Xtr = Xs[v[0].tolist()]\n",
    "    Xts = Xs[v[1].tolist()]\n",
    "    ytr = y[v[0].tolist()]\n",
    "    yts = y[v[1].tolist()]\n",
    "    \n",
    "    # Calculate and store all accuracies\n",
    "    logreg.fit(Xtr, ytr)\n",
    "    yhat = logreg.predict(Xts)\n",
    "    # Create confusion matrix for the current iteration\n",
    "    ctemp = confusion_matrix(yts, yhat)\n",
    "    # Add it to the confusion matrix C\n",
    "    C = C + ctemp\n",
    "\n",
    "C = preprocessing.normalize(C, axis = 1)\n",
    "# Print results\n",
    "print(np.array_str(C, precision=4, suppress_small=True))"
   ]
  },
  {
   "cell_type": "markdown",
   "metadata": {},
   "source": [
    "Re-run the logistic regression on the entire training data and get the weight coefficients.  This should be a 8 x 77 matrix.  Create a stem plot of the first row of this matrix to see the coefficients on each of the genes for predicting the first class."
   ]
  },
  {
   "cell_type": "code",
   "execution_count": 117,
   "metadata": {},
   "outputs": [
    {
     "name": "stdout",
     "output_type": "stream",
     "text": [
      "Confirming dimensions of the weight matrix:  (8, 77)\n"
     ]
    },
    {
     "data": {
      "text/plain": [
       "Text(0,0.5,'Coeff values')"
      ]
     },
     "execution_count": 117,
     "metadata": {},
     "output_type": "execute_result"
    },
    {
     "data": {
      "image/png": "[encoded data removed]",
      "text/plain": [
       "<Figure size 432x288 with 1 Axes>"
      ]
     },
     "metadata": {},
     "output_type": "display_data"
    }
   ],
   "source": [
    "# TODO\n",
    "# Fit the model on the entire data set\n",
    "logreg.fit(Xs, y)\n",
    "# Obtain the weight matrix\n",
    "W = logreg.coef_\n",
    "\n",
    "# Confirm its dimensions\n",
    "print(\"Confirming dimensions of the weight matrix: \", np.shape(W))\n",
    "\n",
    "# Plot the coefficients\n",
    "plt.figure()\n",
    "plt.stem(W[1])\n",
    "plt.title(\"First row Coeffs Stem Plot\")\n",
    "plt.xlabel(\"Coefficients\")\n",
    "plt.ylabel(\"Coeff values\")"
   ]
  },
  {
   "cell_type": "markdown",
   "metadata": {
    "collapsed": true
   },
   "source": [
    "## L1-Regularization\n",
    "\n",
    "\n",
    "In most genetic problems, only a limited number of the tested genes are likely influence any particular attribute.  Hence, we would expect that the weight coefficients in the logistic regression model should be sparse.  That is, they should be zero on any gene that plays no role in the particular attribute of interest.  Genetic analysis commonly imposes sparsity by adding an l1-penalty term.  Read the `sklearn` [documentation](http://scikit-learn.org/stable/modules/generated/sklearn.linear_model.LogisticRegression.html) on the `LogisticRegression` class to see how to set the l1-penalty and the inverse regularization strength, `C`.\n",
    "\n",
    "Use K-fold cross validation to select an appropriate inverse regularization strength.  \n",
    "* Use 10-fold cross validation \n",
    "* You should select around 20 values of `C`.  It is up to you find a good range.\n",
    "* Make appropriate plots and print out to display your results\n",
    "* Use the one  SE rule to find the optimal `C`.\n",
    "* How does the accuracy compare to the accuracy achieved without regularization."
   ]
  },
  {
   "cell_type": "code",
   "execution_count": 138,
   "metadata": {},
   "outputs": [
    {
     "name": "stdout",
     "output_type": "stream",
     "text": [
      "[[0.5741 0.713  0.6111 0.5833 0.5741 0.5278 0.6111 0.6944 0.6759 0.5833]\n",
      " [0.6204 0.7222 0.7037 0.6852 0.6667 0.6111 0.6667 0.7593 0.6944 0.6389]\n",
      " [0.6944 0.7593 0.787  0.7778 0.7778 0.7315 0.7593 0.8241 0.787  0.6852]\n",
      " [0.75   0.8148 0.8241 0.8333 0.8241 0.787  0.8241 0.8148 0.8519 0.7685]\n",
      " [0.8333 0.8796 0.8796 0.8796 0.8519 0.8333 0.8611 0.8796 0.8981 0.8519]\n",
      " [0.9074 0.8981 0.9167 0.9352 0.9074 0.8796 0.9352 0.9259 0.9259 0.9074]\n",
      " [0.9167 0.9259 0.9259 0.9537 0.9259 0.9167 0.963  0.963  0.9722 0.9537]\n",
      " [0.9352 0.9259 0.9352 0.9815 0.9444 0.9537 0.9815 0.9815 0.9815 0.9722]\n",
      " [0.9444 0.9537 0.9352 1.     0.9444 0.963  0.9907 0.9815 0.9907 0.9722]\n",
      " [0.9444 0.9815 0.9722 1.     0.9722 0.9907 1.     0.9907 0.9907 0.9815]\n",
      " [0.963  0.9815 0.9722 1.     0.9722 1.     1.     0.9907 1.     0.9907]\n",
      " [0.9722 1.     0.9722 1.     0.9815 1.     1.     0.9907 1.     0.9907]\n",
      " [0.9722 1.     0.9722 1.     0.9815 1.     1.     1.     1.     1.    ]\n",
      " [0.9722 1.     0.9722 0.9907 0.9907 1.     1.     1.     1.     1.    ]\n",
      " [0.9722 1.     0.9815 0.9815 0.9907 0.9907 1.     1.     1.     0.9907]\n",
      " [0.9722 1.     0.9815 0.9815 0.9907 0.9907 1.     1.     1.     0.9907]\n",
      " [0.963  1.     0.9815 0.9815 0.9907 0.9907 1.     1.     1.     0.9907]\n",
      " [0.963  1.     0.9815 0.9722 0.9907 0.9907 1.     1.     1.     0.9907]\n",
      " [0.963  0.9907 0.9815 0.9722 0.9907 0.9907 1.     1.     1.     0.9907]\n",
      " [0.9815 0.9907 0.9815 0.9722 0.9907 0.9907 1.     1.     1.     0.9907]]\n"
     ]
    }
   ],
   "source": [
    "# TODO:  Perform the cross validation to compute the accuracy per fold and per C\n",
    "# Set up a range for the regularization strength, C\n",
    "nC = 20\n",
    "C_test = np.logspace(-4, 3, num = nC)\n",
    "\n",
    "# Set up kfold\n",
    "nfold = 10\n",
    "kf = KFold(n_splits=nfold, random_state = 1,shuffle=True)\n",
    "\n",
    "# Create an empty list acc with desired length, for memory efficiency\n",
    "acc = np.zeros((nC, nfold))\n",
    "\n",
    "for i, v in enumerate(kf.split(Xs)):\n",
    "    Xtr = Xs[v[0].tolist()]\n",
    "    Xts = Xs[v[1].tolist()]\n",
    "    ytr = y[v[0].tolist()]\n",
    "    yts = y[v[1].tolist()]\n",
    "    \n",
    "    # Loop through each regularization strength, C\n",
    "    for ic, c in enumerate(C_test):\n",
    "        # Calculate and store all accuracies\n",
    "        logreg = linear_model.LogisticRegression(C=c)\n",
    "        logreg.fit(Xtr, ytr)\n",
    "        yhati = logreg.predict(Xts)\n",
    "        # Store the fractions directly in acc\n",
    "        acc[ic, i] = sum(yhati == yts)/len(yts)\n",
    "        \n",
    "# Print the matrix storeing all accuracies per fold and per c\n",
    "print(np.array_str(acc, precision=4, suppress_small=True))"
   ]
  },
  {
   "cell_type": "code",
   "execution_count": 136,
   "metadata": {},
   "outputs": [
    {
     "data": {
      "text/plain": [
       "Text(0,0.5,'Mean Accuracy')"
      ]
     },
     "execution_count": 136,
     "metadata": {},
     "output_type": "execute_result"
    },
    {
     "data": {
      "image/png": "[encoded data removed]",
      "text/plain": [
       "<Figure size 432x288 with 1 Axes>"
      ]
     },
     "metadata": {},
     "output_type": "display_data"
    }
   ],
   "source": [
    "# TODO:  Compute the mean and one SE accuracy and plot with errorbars.\n",
    "acc_m = np.mean(acc, axis = 1)\n",
    "acc_se = np.std(acc, axis = 1)\n",
    "\n",
    "# Visualize the result\n",
    "plt.figure()\n",
    "plt.errorbar(C_test, acc_m, yerr=acc_se, ecolor = 'r')\n",
    "plt.xscale('log')\n",
    "plt.title(\"Accuracy vs. Regularization Strength Errorbars\")\n",
    "plt.xlabel('Regularization Strength C')\n",
    "plt.ylabel('Mean Accuracy')"
   ]
  },
  {
   "cell_type": "code",
   "execution_count": 137,
   "metadata": {},
   "outputs": [
    {
     "name": "stdout",
     "output_type": "stream",
     "text": [
      "Optimal C:  0.207 \n",
      "\n",
      "Accuracy under optimal C:  0.982\n"
     ]
    }
   ],
   "source": [
    "# TODO:  Compute the optimal C with the one SE rule\n",
    "\n",
    "# Now find the optimal C using the SE rule\n",
    "C_mean_list = acc_m.tolist()\n",
    "\n",
    "# this long line basically finds all indices of those MSE values that are within 1 SE interval\n",
    "ind = [i for i,x in enumerate(C_mean_list) if ( x < max(acc_m)+acc_se[np.argmax(acc_m)] \n",
    "                                                 and x > max(acc_m)-acc_se[np.argmax(acc_m)])]\n",
    "\n",
    "# since all test alpha's are sorted from small to large the smallest alpha simply has the smallest index!\n",
    "# so I simply called for optimal alpha by using the smallest index within the interval\n",
    "print('Optimal C: ', C_test[min(ind)].round(3), '\\n')\n",
    "print('Accuracy under optimal C: ', acc_m[min(ind)].round(3))"
   ]
  },
  {
   "cell_type": "markdown",
   "metadata": {},
   "source": [
    "For the optimal `C`, fit the model on the entire training data with l1 regularization. Find the resulting weight matrix, `W_l1`.  Plot the first row of this weight matrix and compare it to the first row of the weight matrix without the regularization.  You should see that, with l1-regularization, the weight matrix is much more sparse and hence the roles of particular genes are more clearly visible."
   ]
  },
  {
   "cell_type": "code",
   "execution_count": 154,
   "metadata": {},
   "outputs": [
    {
     "data": {
      "text/plain": [
       "Text(0,0.5,'Coeff values')"
      ]
     },
     "execution_count": 154,
     "metadata": {},
     "output_type": "execute_result"
    },
    {
     "data": {
      "image/png": "[encoded data removed]",
      "text/plain": [
       "<Figure size 432x288 with 1 Axes>"
      ]
     },
     "metadata": {},
     "output_type": "display_data"
    },
    {
     "data": {
      "image/png": "[encoded data removed]",
      "text/plain": [
       "<Figure size 432x288 with 1 Axes>"
      ]
     },
     "metadata": {},
     "output_type": "display_data"
    }
   ],
   "source": [
    "# TODO\n",
    "# Optimal C\n",
    "opc = C_test[min(ind)]\n",
    "\n",
    "# Fit the model on entire training data using the optimal C\n",
    "logreg = linear_model.LogisticRegression(C=opc)\n",
    "logreg.fit(Xs, y)\n",
    "\n",
    "# Obtain the weight matrix\n",
    "W_l1 = logreg.coef_\n",
    "\n",
    "# Plot the coefficients\n",
    "plt.figure()\n",
    "plt.stem(W_l1[1])\n",
    "plt.title(\"Optimized Coeffs Stem Plot\")\n",
    "plt.xlabel(\"Coefficients\")\n",
    "plt.ylabel(\"Coeff values\")\n",
    "\n",
    "# Old plot for comparison\n",
    "plt.figure()\n",
    "plt.stem(W[1])\n",
    "plt.title(\"Without Regularization Comparison\")\n",
    "plt.xlabel(\"Coefficients\")\n",
    "plt.ylabel(\"Coeff values\")"
   ]
  },
  {
   "cell_type": "code",
   "execution_count": null,
   "metadata": {},
   "outputs": [],
   "source": []
  }
 ],
 "metadata": {
  "anaconda-cloud": {},
  "kernelspec": {
   "display_name": "Python 3",
   "language": "python",
   "name": "python3"
  },
  "language_info": {
   "codemirror_mode": {
    "name": "ipython",
    "version": 3
   },
   "file_extension": ".py",
   "mimetype": "text/x-python",
   "name": "python",
   "nbconvert_exporter": "python",
   "pygments_lexer": "ipython3",
   "version": "3.6.5"
  }
 },
 "nbformat": 4,
 "nbformat_minor": 1
}
