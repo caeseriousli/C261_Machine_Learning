{
 "cells": [
  {
   "cell_type": "markdown",
   "metadata": {},
   "source": [
    "#  Neural Networks for Music Classification\n",
    "\n",
    "In addition to the concepts in the MNIST neural network demo, in this lab, you will learn to:\n",
    "* Load a file from a URL\n",
    "* Extract simple features from audio samples for machine learning tasks such as speech recognition and classification\n",
    "* Build a simple neural network for music classification using these features\n",
    "* Record the loss and accuracy history in the training process\n",
    "* Optimize the learning rate of the neural network\n",
    "\n",
    "To illustrate the basic concepts, we will look at a relatively simple music classification problem.  Given a sample of music, we want to determine which instrument (e.g. trumpet, violin, piano) is playing.  This dataset was generously supplied by [Prof. Juan Bello](http://steinhardt.nyu.edu/faculty/Juan_Pablo_Bello) at NYU Stenihardt  and his former PhD student Eric Humphrey (now at Spotify).  They have a complete website dedicated to deep learning methods in music informatics:\n",
    "\n",
    "http://marl.smusic.nyu.edu/wordpress/projects/feature-learning-deep-architectures/deep-learning-python-tutorial/"
   ]
  },
  {
   "cell_type": "markdown",
   "metadata": {},
   "source": [
    "## Installing and Loading the Keras package\n",
    "\n",
    "Before beginning you need to make sure you have installed tensorflow and keras.  Full instructions are available:\n",
    "*  [Tensorflow installation page](https://www.tensorflow.org/install/)\n",
    "*  [Keras installation page](https://keras.io/#installation)\n",
    "\n",
    "For the most part, you should be able to install both with the commands:\n",
    "     \n",
    "    pip3 install --upgrade tensorflow\n",
    "    pip3 install --upgrade keras\n",
    "    \n",
    "After you have installed the packages, we can begin by loading keras and the other packages"
   ]
  },
  {
   "cell_type": "code",
   "execution_count": 1,
   "metadata": {},
   "outputs": [
    {
     "name": "stderr",
     "output_type": "stream",
     "text": [
      "/Library/Frameworks/Python.framework/Versions/3.6/lib/python3.6/site-packages/h5py/__init__.py:36: FutureWarning: Conversion of the second argument of issubdtype from `float` to `np.floating` is deprecated. In future, it will be treated as `np.float64 == np.dtype(float).type`.\n",
      "  from ._conv import register_converters as _register_converters\n",
      "Using TensorFlow backend.\n"
     ]
    }
   ],
   "source": [
    "import keras"
   ]
  },
  {
   "cell_type": "code",
   "execution_count": 2,
   "metadata": {},
   "outputs": [],
   "source": [
    "import numpy as np\n",
    "import matplotlib\n",
    "import matplotlib.pyplot as plt\n",
    "%matplotlib inline"
   ]
  },
  {
   "cell_type": "markdown",
   "metadata": {},
   "source": [
    "## Audio Feature Extraction with Librosa\n",
    "\n",
    "The key to audio classification is to extract the correct features. In addition to `keras`, we will need the `librosa` package.  The `librosa` package in python has a rich set of methods extracting the features of audio samples commonly used in machine learning tasks such as speech recognition and sound classification. \n",
    "\n",
    "Installation instructions and complete documentation for the package are given on the [librosa main page](https://librosa.github.io/librosa/).  On most systems, you should be able to simply use:\n",
    "\n",
    "    pip install -u librosa\n",
    "    \n",
    "For Unix, you may need to load some additional packages:\n",
    "\n",
    "    sudo apt-get install build-essential\n",
    "    sudo apt-get install libxext-dev python-qt4 qt4-dev-tools\n",
    "    pip install librosa\n",
    "    \n",
    "After you have installed the package, try to import it."
   ]
  },
  {
   "cell_type": "code",
   "execution_count": 4,
   "metadata": {},
   "outputs": [],
   "source": [
    "import librosa\n",
    "import librosa.display\n",
    "import librosa.feature"
   ]
  },
  {
   "cell_type": "markdown",
   "metadata": {},
   "source": [
    "In this lab, we will use a set of music samples from the website:\n",
    "\n",
    "http://theremin.music.uiowa.edu\n",
    "\n",
    "This website has a great set of samples for audio processing.  Look on the web for how to use the `requests.get` and `file.write` commands to load the file at the URL provided into your working directory.\n",
    "\n",
    "You can play the audio sample by copying the file to your local machine and playing it on any media player.  If you listen to it you will hear a soprano saxaphone (with vibrato) playing four notes (C, C#, D, Eb)."
   ]
  },
  {
   "cell_type": "code",
   "execution_count": 33,
   "metadata": {},
   "outputs": [],
   "source": [
    "import requests\n",
    "\n",
    "# I set a working directory to a different path here since I do not want Github to sync the \n",
    "# big music file. Please delete or disable the next two lines when you test my code\n",
    "import os\n",
    "os.chdir(\"/Users/caesar/Dropbox/C261\")\n",
    "\n",
    "\n",
    "fn = \"SopSax.Vib.pp.C6Eb6.aiff\"\n",
    "url = \"http://theremin.music.uiowa.edu/sound files/MIS/Woodwinds/sopranosaxophone/\"+fn\n",
    "\n",
    "# TODO:  Load the file from url and save it in a file under the name fn\n",
    "\n",
    "music = requests.get(url)\n",
    "\n",
    "#file = open(\"fn\",\"w+\")\n",
    "#file.write(music.raw)\n",
    "\n",
    "# Create/open a new file and write the request content in\n",
    "with open(\"fn\", 'wb') as f:\n",
    "    for chunk in music.iter_content(chunk_size=128):\n",
    "        f.write(chunk)"
   ]
  },
  {
   "cell_type": "markdown",
   "metadata": {},
   "source": [
    "Next, use `librosa` command `librosa.load` to read the audio file with filename `fn` and get the samples `y` and sample rate `sr`."
   ]
  },
  {
   "cell_type": "code",
   "execution_count": 34,
   "metadata": {},
   "outputs": [],
   "source": [
    "# TODO\n",
    "\n",
    "y, sr = librosa.load(\"fn\")"
   ]
  },
  {
   "cell_type": "markdown",
   "metadata": {},
   "source": [
    "Extracting features from audio files is an entire subject on its own right.  A commonly used set of features are called the Mel Frequency Cepstral Coefficients (MFCCs).  These are derived from the so-called mel spectrogram which is something like a regular spectrogram, but the power and frequency are represented in log scale, which more naturally aligns with human perceptual processing.  You can run the code below to display the mel spectrogram from the audio sample.\n",
    "\n",
    "You can easily see the four notes played in the audio track.  You also see the 'harmonics' of each notes, which are other tones at integer multiples of the fundamental frequency of each note."
   ]
  },
  {
   "cell_type": "code",
   "execution_count": 41,
   "metadata": {},
   "outputs": [
    {
     "data": {
      "image/png": "[encoded data removed]",
      "text/plain": [
       "<Figure size 432x288 with 2 Axes>"
      ]
     },
     "metadata": {},
     "output_type": "display_data"
    }
   ],
   "source": [
    "S = librosa.feature.melspectrogram(y=y, sr=sr, n_mels=128, fmax=8000)\n",
    "librosa.display.specshow(librosa.amplitude_to_db(S),\n",
    "                         y_axis='mel', fmax=8000, x_axis='time')\n",
    "plt.colorbar(format='%+2.0f dB')\n",
    "plt.title('Mel spectrogram')\n",
    "plt.tight_layout()"
   ]
  },
  {
   "cell_type": "markdown",
   "metadata": {},
   "source": [
    "## Downloading the Data\n",
    "\n",
    "Using the MFCC features described above, Eric Humphrey and Juan Bellow have created a complete data set that can used for instrument classification.  Essentially, they collected a number of data files from the website above.  For each audio file, the segmented the track into notes and then extracted 120 MFCCs for each note.  The goal is to recognize the instrument from the 120 MFCCs.  The process of feature extraction is quite involved.  So, we will just use their processed data provided at:\n",
    "\n",
    "https://github.com/marl/dl4mir-tutorial/blob/master/README.md\n",
    "\n",
    "Note the password.  Load the four files into some directory, say  `instrument_dataset`.  Then, load them with the commands."
   ]
  },
  {
   "cell_type": "code",
   "execution_count": 44,
   "metadata": {},
   "outputs": [],
   "source": [
    "data_dir = 'instrument_dataset/'\n",
    "Xtr = np.load(data_dir+'uiowa_train_data.npy')\n",
    "ytr = np.load(data_dir+'uiowa_train_labels.npy')\n",
    "Xts = np.load(data_dir+'uiowa_test_data.npy')\n",
    "yts = np.load(data_dir+'uiowa_test_labels.npy')"
   ]
  },
  {
   "cell_type": "markdown",
   "metadata": {},
   "source": [
    "Looking at the data files:\n",
    "* What are the number of training and test samples?\n",
    "* What is the number of features for each sample?\n",
    "* How many classes (i.e. instruments) are there per class?\n"
   ]
  },
  {
   "cell_type": "code",
   "execution_count": 48,
   "metadata": {},
   "outputs": [
    {
     "name": "stdout",
     "output_type": "stream",
     "text": [
      "Training samples:  66247\n",
      "Training response samples:  66247\n",
      "Test samples:  14904\n",
      "Test response samples:  14904\n"
     ]
    }
   ],
   "source": [
    "# TODO\n",
    "\n",
    "print(\"Training samples: \", len(Xtr))\n",
    "print(\"Training response samples: \", len(ytr))\n",
    "print(\"Test samples: \", len(Xts))\n",
    "print(\"Test response samples: \", len(yts))"
   ]
  },
  {
   "cell_type": "markdown",
   "metadata": {},
   "source": [
    "Before continuing, you must scale the training and test data, `Xtr` and `Xts`.  Compute the mean and std deviation of each feature in `Xtr` and create a new training data set, `Xtr_scale`, by subtracting the mean and dividing by the std deviation.  Also compute a scaled test data set, `Xts_scale` using the mean and std deviation learned from the training data set."
   ]
  },
  {
   "cell_type": "code",
   "execution_count": 74,
   "metadata": {},
   "outputs": [],
   "source": [
    "# TODO Scale the training and test matrices\n",
    "# Xtr_scale = ...\n",
    "# Xts_scale = ...\n",
    "\n",
    "# I like to write it in one line\n",
    "Xtr_scale = (Xtr - np.mean(Xtr, axis = 0))/np.std(Xtr, axis = 0)\n",
    "Xts_scale = (Xts - np.mean(Xts, axis = 0))/np.std(Xts, axis = 0)\n"
   ]
  },
  {
   "cell_type": "markdown",
   "metadata": {
    "collapsed": true
   },
   "source": [
    "## Building a Neural Network Classifier\n",
    "\n",
    "Following the example in MNIST neural network demo posted on CCLE on May 24th (there is both a pdf file and a python notebook file; you can save the python notebook file and open it in Jupyter or similiar tool), clear the keras session.  Then, create a neural network `model` with:\n",
    "* `nh=256` hidden units\n",
    "* `sigmoid` activation\n",
    "* select the input and output shapes correctly\n",
    "* print the model summary"
   ]
  },
  {
   "cell_type": "code",
   "execution_count": 75,
   "metadata": {},
   "outputs": [],
   "source": [
    "from keras.models import Model, Sequential\n",
    "from keras.layers import Dense, Activation"
   ]
  },
  {
   "cell_type": "code",
   "execution_count": 23,
   "metadata": {
    "collapsed": true
   },
   "outputs": [],
   "source": [
    "# Clear session (removes existing models)\n",
    "import keras.backend as K  # From demo (so you can use K.xxx instead of typing keras.backend.xxx)\n",
    "K.clear_session() "
   ]
  },
  {
   "cell_type": "code",
   "execution_count": 80,
   "metadata": {},
   "outputs": [],
   "source": [
    "# TODO: construct the model\n",
    "\n",
    "# no. of features\n",
    "nin = Xtr.shape[1]\n",
    "# no. of hidden units\n",
    "nh = 100    \n",
    "# no. of output units, which is 10 since we have 10 classes (simply use set(ytr) to find out)\n",
    "nout = int(np.max(ytr)+1) \n",
    "\n",
    "model = Sequential()\n",
    "model.add(Dense(nh, input_shape=(nin,), activation='sigmoid', name='hidden'))\n",
    "model.add(Dense(nout, activation='softmax', name='output'))"
   ]
  },
  {
   "cell_type": "code",
   "execution_count": 81,
   "metadata": {},
   "outputs": [
    {
     "name": "stdout",
     "output_type": "stream",
     "text": [
      "_________________________________________________________________\n",
      "Layer (type)                 Output Shape              Param #   \n",
      "=================================================================\n",
      "hidden (Dense)               (None, 100)               12100     \n",
      "_________________________________________________________________\n",
      "output (Dense)               (None, 10)                1010      \n",
      "=================================================================\n",
      "Total params: 13,110\n",
      "Trainable params: 13,110\n",
      "Non-trainable params: 0\n",
      "_________________________________________________________________\n"
     ]
    }
   ],
   "source": [
    "# TODO:  Print the model summary\n",
    "\n",
    "model.summary()"
   ]
  },
  {
   "cell_type": "markdown",
   "metadata": {},
   "source": [
    "Create an optimizer and compile the model.  Select the appropriate loss function and metrics.  For the optimizer, use the Adam optimizer with a learning rate of 0.001"
   ]
  },
  {
   "cell_type": "code",
   "execution_count": 84,
   "metadata": {
    "scrolled": true
   },
   "outputs": [],
   "source": [
    "# TODO\n",
    "from keras import optimizers\n",
    "\n",
    "opt = optimizers.Adam(lr=0.001)\n",
    "model.compile(optimizer=opt,\n",
    "              loss='sparse_categorical_crossentropy',\n",
    "              metrics=['accuracy'])"
   ]
  },
  {
   "cell_type": "markdown",
   "metadata": {},
   "source": [
    "Fit the model for 10 epochs using the scaled data for both the training and validation.  Use the `validation_data` option to pass the test data.  Use a batch size of 100.  Your final accuracy should be >99%.  To record the training history, use\n",
    "\n",
    "     hist = model.fit(...)\n",
    "     \n",
    "This will return a data structure, `hist` with the metrics per epoch."
   ]
  },
  {
   "cell_type": "code",
   "execution_count": 85,
   "metadata": {
    "scrolled": true
   },
   "outputs": [
    {
     "name": "stdout",
     "output_type": "stream",
     "text": [
      "Train on 66247 samples, validate on 14904 samples\n",
      "Epoch 1/10\n",
      "66247/66247 [==============================] - 2s 37us/step - loss: 1.5657 - acc: 0.4783 - val_loss: 1.6032 - val_acc: 0.4711\n",
      "Epoch 2/10\n",
      "66247/66247 [==============================] - 2s 27us/step - loss: 1.1429 - acc: 0.6247 - val_loss: 1.3057 - val_acc: 0.5722\n",
      "Epoch 3/10\n",
      "66247/66247 [==============================] - 2s 27us/step - loss: 0.8866 - acc: 0.7134 - val_loss: 1.0292 - val_acc: 0.6648\n",
      "Epoch 4/10\n",
      "66247/66247 [==============================] - 2s 27us/step - loss: 0.7058 - acc: 0.7789 - val_loss: 0.8392 - val_acc: 0.7281\n",
      "Epoch 5/10\n",
      "66247/66247 [==============================] - 2s 27us/step - loss: 0.5780 - acc: 0.8253 - val_loss: 0.6762 - val_acc: 0.7892\n",
      "Epoch 6/10\n",
      "66247/66247 [==============================] - 2s 27us/step - loss: 0.4840 - acc: 0.8572 - val_loss: 0.5703 - val_acc: 0.8323\n",
      "Epoch 7/10\n",
      "66247/66247 [==============================] - 2s 30us/step - loss: 0.4128 - acc: 0.8834 - val_loss: 0.4790 - val_acc: 0.8561\n",
      "Epoch 8/10\n",
      "66247/66247 [==============================] - 2s 31us/step - loss: 0.3576 - acc: 0.9024 - val_loss: 0.4028 - val_acc: 0.8897\n",
      "Epoch 9/10\n",
      "66247/66247 [==============================] - 2s 33us/step - loss: 0.3144 - acc: 0.9175 - val_loss: 0.3572 - val_acc: 0.9058\n",
      "Epoch 10/10\n",
      "66247/66247 [==============================] - 2s 32us/step - loss: 0.2803 - acc: 0.9278 - val_loss: 0.3162 - val_acc: 0.9171\n"
     ]
    }
   ],
   "source": [
    "# TODO\n",
    "hist = model.fit(Xtr, ytr, epochs=10, batch_size=100, validation_data=(Xts,yts))"
   ]
  },
  {
   "cell_type": "code",
   "execution_count": 87,
   "metadata": {},
   "outputs": [
    {
     "name": "stdout",
     "output_type": "stream",
     "text": [
      "Train on 66247 samples, validate on 14904 samples\n",
      "Epoch 1/10\n",
      "66247/66247 [==============================] - 2s 33us/step - loss: 0.1263 - acc: 0.9657 - val_loss: 0.1615 - val_acc: 0.9520\n",
      "Epoch 2/10\n",
      "66247/66247 [==============================] - 2s 37us/step - loss: 0.1197 - acc: 0.9676 - val_loss: 0.1550 - val_acc: 0.9532\n",
      "Epoch 3/10\n",
      "66247/66247 [==============================] - 2s 28us/step - loss: 0.1135 - acc: 0.9698 - val_loss: 0.1502 - val_acc: 0.9564\n",
      "Epoch 4/10\n",
      "66247/66247 [==============================] - 2s 28us/step - loss: 0.1080 - acc: 0.9717 - val_loss: 0.1439 - val_acc: 0.9581\n",
      "Epoch 5/10\n",
      "66247/66247 [==============================] - 2s 28us/step - loss: 0.1029 - acc: 0.9734 - val_loss: 0.1428 - val_acc: 0.9572\n",
      "Epoch 6/10\n",
      "66247/66247 [==============================] - 2s 28us/step - loss: 0.0984 - acc: 0.9748 - val_loss: 0.1452 - val_acc: 0.9575\n",
      "Epoch 7/10\n",
      "66247/66247 [==============================] - 2s 30us/step - loss: 0.0938 - acc: 0.9760 - val_loss: 0.1354 - val_acc: 0.9587\n",
      "Epoch 8/10\n",
      "66247/66247 [==============================] - 2s 28us/step - loss: 0.0899 - acc: 0.9771 - val_loss: 0.1277 - val_acc: 0.9624\n",
      "Epoch 9/10\n",
      "66247/66247 [==============================] - 2s 33us/step - loss: 0.0860 - acc: 0.9781 - val_loss: 0.1246 - val_acc: 0.9636\n",
      "Epoch 10/10\n",
      "66247/66247 [==============================] - 2s 30us/step - loss: 0.0825 - acc: 0.9794 - val_loss: 0.1245 - val_acc: 0.9624\n"
     ]
    }
   ],
   "source": [
    "hist = model.fit(Xtr, ytr, epochs=10, batch_size=100, validation_data=(Xts,yts))"
   ]
  },
  {
   "cell_type": "markdown",
   "metadata": {},
   "source": [
    "The data structure `hist` should contain the training and validation accuracy as a function of the epoch:\n",
    "*  `hist.history['acc']`:  Training accuracy per epoch\n",
    "*  `hist.history['val_acc']`:  Test/validation accuracy per epoch\n",
    "\n",
    "Plot the training and test validation as a function of the epoch.  Label your graph."
   ]
  },
  {
   "cell_type": "code",
   "execution_count": 92,
   "metadata": {},
   "outputs": [
    {
     "data": {
      "image/png": "[encoded data removed]",
      "text/plain": [
       "<Figure size 432x288 with 1 Axes>"
      ]
     },
     "metadata": {},
     "output_type": "display_data"
    }
   ],
   "source": [
    "# TODO\n",
    "\n",
    "plt.plot(hist.history['acc'])\n",
    "plt.plot(hist.history['val_acc'])\n",
    "plt.title('model accuracy')\n",
    "plt.ylabel('accuracy')\n",
    "plt.xlabel('epoch')\n",
    "plt.legend(['train', 'test'], loc='upper left')\n",
    "plt.show()"
   ]
  },
  {
   "cell_type": "markdown",
   "metadata": {},
   "source": [
    "Plot the loss function, stored in `hist.history['loss']`."
   ]
  },
  {
   "cell_type": "code",
   "execution_count": 93,
   "metadata": {},
   "outputs": [
    {
     "data": {
      "image/png": "[encoded data removed]",
      "text/plain": [
       "<Figure size 432x288 with 1 Axes>"
      ]
     },
     "metadata": {},
     "output_type": "display_data"
    }
   ],
   "source": [
    "# TODO\n",
    "\n",
    "plt.plot(hist.history['loss'])\n",
    "plt.plot(hist.history['val_loss'])\n",
    "plt.title('model loss')\n",
    "plt.ylabel('loss')\n",
    "plt.xlabel('epoch')\n",
    "plt.legend(['train', 'test'], loc='upper left')\n",
    "plt.show()"
   ]
  },
  {
   "cell_type": "markdown",
   "metadata": {},
   "source": [
    "## Optimizing the Learning Rate\n",
    "\n",
    "One challenge in training neural networks is the selection of the learning rate.  Rerun the above code, trying four learning rates as shown in the vector `rates`.  For each learning rate:\n",
    "* clear the session\n",
    "* construct the network\n",
    "* select the optimizer.  Use the Adam optimizer with the appropriate learrning rate.\n",
    "* train the model\n",
    "* save the accuracy and losses"
   ]
  },
  {
   "cell_type": "code",
   "execution_count": 118,
   "metadata": {},
   "outputs": [
    {
     "name": "stdout",
     "output_type": "stream",
     "text": [
      "Train on 66247 samples, validate on 14904 samples\n",
      "Epoch 1/10\n",
      "66247/66247 [==============================] - 2s 36us/step - loss: 0.7571 - acc: 0.7571 - val_loss: 0.3845 - val_acc: 0.8877\n",
      "Epoch 2/10\n",
      "66247/66247 [==============================] - 2s 28us/step - loss: 0.2362 - acc: 0.9329 - val_loss: 0.2132 - val_acc: 0.9373\n",
      "Epoch 3/10\n",
      "66247/66247 [==============================] - 2s 27us/step - loss: 0.1480 - acc: 0.9568 - val_loss: 0.1609 - val_acc: 0.9496\n",
      "Epoch 4/10\n",
      "66247/66247 [==============================] - 2s 28us/step - loss: 0.1070 - acc: 0.9694 - val_loss: 0.1304 - val_acc: 0.9591\n",
      "Epoch 5/10\n",
      "66247/66247 [==============================] - 2s 28us/step - loss: 0.0835 - acc: 0.9765 - val_loss: 0.1287 - val_acc: 0.9571\n",
      "Epoch 6/10\n",
      "66247/66247 [==============================] - 2s 28us/step - loss: 0.0671 - acc: 0.9811 - val_loss: 0.1129 - val_acc: 0.9612\n",
      "Epoch 7/10\n",
      "66247/66247 [==============================] - 2s 30us/step - loss: 0.0552 - acc: 0.9844 - val_loss: 0.0924 - val_acc: 0.9680\n",
      "Epoch 8/10\n",
      "66247/66247 [==============================] - 2s 29us/step - loss: 0.0487 - acc: 0.9860 - val_loss: 0.0701 - val_acc: 0.9746\n",
      "Epoch 9/10\n",
      "66247/66247 [==============================] - 2s 31us/step - loss: 0.0401 - acc: 0.9889 - val_loss: 0.1001 - val_acc: 0.9673\n",
      "Epoch 10/10\n",
      "66247/66247 [==============================] - 2s 35us/step - loss: 0.0348 - acc: 0.9903 - val_loss: 0.0612 - val_acc: 0.9802\n",
      "Train on 66247 samples, validate on 14904 samples\n",
      "Epoch 1/10\n",
      "66247/66247 [==============================] - 2s 37us/step - loss: 1.5761 - acc: 0.4733 - val_loss: 1.6280 - val_acc: 0.4675\n",
      "Epoch 2/10\n",
      "66247/66247 [==============================] - 2s 33us/step - loss: 1.1532 - acc: 0.6219 - val_loss: 1.3165 - val_acc: 0.6025\n",
      "Epoch 3/10\n",
      "66247/66247 [==============================] - 2s 29us/step - loss: 0.8955 - acc: 0.7106 - val_loss: 1.0454 - val_acc: 0.6724\n",
      "Epoch 4/10\n",
      "66247/66247 [==============================] - 2s 28us/step - loss: 0.7120 - acc: 0.7779 - val_loss: 0.8447 - val_acc: 0.7291\n",
      "Epoch 5/10\n",
      "66247/66247 [==============================] - 2s 28us/step - loss: 0.5822 - acc: 0.8259 - val_loss: 0.6870 - val_acc: 0.7762\n",
      "Epoch 6/10\n",
      "66247/66247 [==============================] - 2s 28us/step - loss: 0.4865 - acc: 0.8587 - val_loss: 0.5664 - val_acc: 0.8305\n",
      "Epoch 7/10\n",
      "66247/66247 [==============================] - 2s 28us/step - loss: 0.4131 - acc: 0.8842 - val_loss: 0.4779 - val_acc: 0.8649\n",
      "Epoch 8/10\n",
      "66247/66247 [==============================] - 2s 31us/step - loss: 0.3570 - acc: 0.9043 - val_loss: 0.4113 - val_acc: 0.8888\n",
      "Epoch 9/10\n",
      "66247/66247 [==============================] - 2s 30us/step - loss: 0.3131 - acc: 0.9187 - val_loss: 0.3600 - val_acc: 0.9008\n",
      "Epoch 10/10\n",
      "66247/66247 [==============================] - 2s 28us/step - loss: 0.2785 - acc: 0.9276 - val_loss: 0.3193 - val_acc: 0.9134\n",
      "Train on 66247 samples, validate on 14904 samples\n",
      "Epoch 1/10\n",
      "66247/66247 [==============================] - 2s 35us/step - loss: 1.9468 - acc: 0.3463 - val_loss: 1.9926 - val_acc: 0.3256\n",
      "Epoch 2/10\n",
      "66247/66247 [==============================] - 2s 29us/step - loss: 1.7642 - acc: 0.4281 - val_loss: 1.9221 - val_acc: 0.3457\n",
      "Epoch 3/10\n",
      "66247/66247 [==============================] - 2s 30us/step - loss: 1.6561 - acc: 0.4558 - val_loss: 1.8618 - val_acc: 0.3667\n",
      "Epoch 4/10\n",
      "66247/66247 [==============================] - 2s 33us/step - loss: 1.5741 - acc: 0.4766 - val_loss: 1.8127 - val_acc: 0.3807\n",
      "Epoch 5/10\n",
      "66247/66247 [==============================] - 2s 31us/step - loss: 1.5078 - acc: 0.4939 - val_loss: 1.7637 - val_acc: 0.4022\n",
      "Epoch 6/10\n",
      "66247/66247 [==============================] - 2s 28us/step - loss: 1.4517 - acc: 0.5118 - val_loss: 1.7275 - val_acc: 0.4069\n",
      "Epoch 7/10\n",
      "66247/66247 [==============================] - 2s 28us/step - loss: 1.4026 - acc: 0.5258 - val_loss: 1.6855 - val_acc: 0.4277\n",
      "Epoch 8/10\n",
      "66247/66247 [==============================] - 2s 32us/step - loss: 1.3583 - acc: 0.5404 - val_loss: 1.6474 - val_acc: 0.4478\n",
      "Epoch 9/10\n",
      "66247/66247 [==============================] - 2s 33us/step - loss: 1.3173 - acc: 0.5547 - val_loss: 1.6103 - val_acc: 0.4663\n",
      "Epoch 10/10\n",
      "66247/66247 [==============================] - 2s 33us/step - loss: 1.2784 - acc: 0.5695 - val_loss: 1.5779 - val_acc: 0.4771\n"
     ]
    }
   ],
   "source": [
    "rates = [0.01,0.001,0.0001]\n",
    "batch_size = 100\n",
    "loss_hist = []\n",
    "val_acc_hist = []\n",
    "\n",
    "# TODO\n",
    "# Construct the model again\n",
    "import keras.backend as K\n",
    "for i, r in enumerate(rates):\n",
    "    K.clear_session()\n",
    "    model = Sequential()\n",
    "    model.add(Dense(nh, input_shape=(nin,), activation='sigmoid', name='hidden'))\n",
    "    model.add(Dense(nout, activation='softmax', name='output'))\n",
    "\n",
    "    opt = optimizers.Adam(lr=r)\n",
    "    model.compile(optimizer=opt,\n",
    "                  loss='sparse_categorical_crossentropy',\n",
    "                  metrics=['accuracy'])\n",
    "    # Put the result in containers\n",
    "    hist = model.fit(Xtr, ytr, epochs=10, batch_size=100, validation_data=(Xts,yts))\n",
    "    loss = hist.history['loss']\n",
    "    acc = hist.history['val_acc']\n",
    "    loss_hist.append(loss)\n",
    "    val_acc_hist.append(acc)"
   ]
  },
  {
   "cell_type": "markdown",
   "metadata": {},
   "source": [
    "Plot the loss function vs. the epoch number for all three learning rates on one graph.  In order that you can see the difference, it may be useful to plot them using `semilogy` so that the loss is in log scale. You should see that the lower learning rates are more stable, but converge slower."
   ]
  },
  {
   "cell_type": "code",
   "execution_count": 120,
   "metadata": {},
   "outputs": [
    {
     "data": {
      "image/png": "[encoded data removed]",
      "text/plain": [
       "<Figure size 432x288 with 1 Axes>"
      ]
     },
     "metadata": {},
     "output_type": "display_data"
    }
   ],
   "source": [
    "# TODO\n",
    "\n",
    "for i in loss_hist:\n",
    "    plt.plot(i)\n",
    "plt.title('Model loss')\n",
    "plt.ylabel('loss')\n",
    "plt.xlabel('epoch')\n",
    "plt.legend(['0.01', '0.001', '0.0001'], loc='upper right')\n",
    "plt.show()"
   ]
  },
  {
   "cell_type": "code",
   "execution_count": 123,
   "metadata": {},
   "outputs": [
    {
     "data": {
      "image/png": "[encoded data removed]",
      "text/plain": [
       "<Figure size 432x288 with 1 Axes>"
      ]
     },
     "metadata": {},
     "output_type": "display_data"
    }
   ],
   "source": [
    "# I plotted the accuracies as well.\n",
    "\n",
    "for i in val_acc_hist:\n",
    "    plt.plot(i)\n",
    "plt.title('Model Accuracy')\n",
    "plt.ylabel('Accuracy')\n",
    "plt.xlabel('epoch')\n",
    "plt.legend(['0.01', '0.001', '0.0001'], loc='center right')\n",
    "plt.show()"
   ]
  },
  {
   "cell_type": "code",
   "execution_count": null,
   "metadata": {},
   "outputs": [],
   "source": []
  }
 ],
 "metadata": {
  "anaconda-cloud": {},
  "kernelspec": {
   "display_name": "Python 3",
   "language": "python",
   "name": "python3"
  },
  "language_info": {
   "codemirror_mode": {
    "name": "ipython",
    "version": 3
   },
   "file_extension": ".py",
   "mimetype": "text/x-python",
   "name": "python",
   "nbconvert_exporter": "python",
   "pygments_lexer": "ipython3",
   "version": "3.6.5"
  }
 },
 "nbformat": 4,
 "nbformat_minor": 1
}
